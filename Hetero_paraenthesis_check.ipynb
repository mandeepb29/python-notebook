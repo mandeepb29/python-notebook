{
 "cells": [
  {
   "cell_type": "code",
   "execution_count": null,
   "metadata": {},
   "outputs": [
    {
     "name": "stdin",
     "output_type": "stream",
     "text": [
      "enter a string -  {}()\n"
     ]
    },
    {
     "name": "stdout",
     "output_type": "stream",
     "text": [
      "String is Balanced\n"
     ]
    },
    {
     "name": "stdin",
     "output_type": "stream",
     "text": [
      "enter a string -  {{[]()}}\n"
     ]
    },
    {
     "name": "stdout",
     "output_type": "stream",
     "text": [
      "String is Balanced\n"
     ]
    },
    {
     "name": "stdin",
     "output_type": "stream",
     "text": [
      "enter a string -  {{([]}}\n"
     ]
    },
    {
     "name": "stdout",
     "output_type": "stream",
     "text": [
      "String is Unbalanced\n"
     ]
    },
    {
     "name": "stdin",
     "output_type": "stream",
     "text": [
      "enter a string -  \n"
     ]
    },
    {
     "name": "stdout",
     "output_type": "stream",
     "text": [
      "String is Balanced\n"
     ]
    },
    {
     "name": "stdin",
     "output_type": "stream",
     "text": [
      "enter a string -  [[[]]}}\n"
     ]
    }
   ],
   "source": [
    "\n",
    "class Stack:\n",
    "    def __init__(self):\n",
    "        self.a=[];\n",
    "\n",
    "    def push(self,item):\n",
    "        self.a.append(item)\n",
    "       \n",
    "\n",
    "    def pop(self):\n",
    "        item=self.a.pop()\n",
    "       \n",
    "\n",
    "    def length(self):\n",
    "        return len(self.a)\n",
    "\n",
    "    def print(self):\n",
    "        print(\"stack : \",self.a)\n",
    "    \n",
    "    def isEmpty(self):\n",
    "        return len(self.a)==0\n",
    "\n",
    "def balancePara(arr):\n",
    "    i=0;\n",
    "    s1=Stack()\n",
    "    while i<len(arr):\n",
    "       if(arr[i]=='(' or arr[i]=='[' or arr[i]=='{'):\n",
    "           s1.push('(')\n",
    "       elif(arr[i]==')' or arr[i]==']' or arr[i]=='}'):\n",
    "           if(s1.isEmpty()):\n",
    "               return 0;\n",
    "           else:\n",
    "               s1.pop();\n",
    "       i+=1;\n",
    "\n",
    "    if(s1.isEmpty()):\n",
    "        print(\"String is Balanced\")\n",
    "    else :\n",
    "        print(\"String is Unbalanced\")\n",
    "    \n",
    "while(1):\n",
    "    str1=input(\"enter a string - \")\n",
    "    balancePara(str1)\n",
    "             \n",
    "\n",
    "\n"
   ]
  },
  {
   "cell_type": "code",
   "execution_count": null,
   "metadata": {},
   "outputs": [],
   "source": []
  }
 ],
 "metadata": {
  "kernelspec": {
   "display_name": "Python 3",
   "language": "python",
   "name": "python3"
  },
  "language_info": {
   "codemirror_mode": {
    "name": "ipython",
    "version": 3
   },
   "file_extension": ".py",
   "mimetype": "text/x-python",
   "name": "python",
   "nbconvert_exporter": "python",
   "pygments_lexer": "ipython3",
   "version": "3.7.3"
  }
 },
 "nbformat": 4,
 "nbformat_minor": 4
}
