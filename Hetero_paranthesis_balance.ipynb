{
 "cells": [
  {
   "cell_type": "code",
   "execution_count": null,
   "metadata": {},
   "outputs": [
    {
     "name": "stdin",
     "output_type": "stream",
     "text": [
      "enter a string -  {{}[]()}\n"
     ]
    },
    {
     "name": "stdout",
     "output_type": "stream",
     "text": [
      "string -  {{}[]()}\n",
      "String is Balanced\n"
     ]
    },
    {
     "name": "stdin",
     "output_type": "stream",
     "text": [
      "enter a string -  {{))\n"
     ]
    },
    {
     "name": "stdout",
     "output_type": "stream",
     "text": [
      "string -  {{))\n",
      "String is Unbalanced\n"
     ]
    },
    {
     "name": "stdin",
     "output_type": "stream",
     "text": [
      "enter a string -  {}()[[]\n"
     ]
    },
    {
     "name": "stdout",
     "output_type": "stream",
     "text": [
      "string -  {}()[[]\n",
      "String is Unbalanced\n"
     ]
    },
    {
     "name": "stdin",
     "output_type": "stream",
     "text": [
      "enter a string -  {{}}[(){[]}]\n"
     ]
    },
    {
     "name": "stdout",
     "output_type": "stream",
     "text": [
      "string -  {{}}[(){[]}]\n",
      "String is Balanced\n"
     ]
    },
    {
     "name": "stdin",
     "output_type": "stream",
     "text": [
      "enter a string -  \n"
     ]
    },
    {
     "name": "stdout",
     "output_type": "stream",
     "text": [
      "string -  \n",
      "String is Balanced\n"
     ]
    }
   ],
   "source": [
    "\n",
    "class Stack:\n",
    "    def __init__(self):\n",
    "        self.a=[];\n",
    "\n",
    "    def push(self,item):\n",
    "        self.a.append(item)\n",
    "       \n",
    "\n",
    "    def pop(self):\n",
    "        item=self.a.pop()\n",
    "       \n",
    "\n",
    "    def length(self):\n",
    "        return len(self.a)\n",
    "\n",
    "    def print(self):\n",
    "        print(\"stack : \",self.a)\n",
    "    \n",
    "    def isEmpty(self):\n",
    "        return len(self.a)==0\n",
    "\n",
    "def balancePara(arr):\n",
    "    i=0;\n",
    "    f1=f2=f3=1\n",
    "    s1=Stack()\n",
    "    s2=Stack()\n",
    "    s3=Stack()\n",
    "    while i<len(arr):\n",
    "        if(arr[i]=='('):\n",
    "            s1.push('(')\n",
    "        elif(arr[i]==')'):\n",
    "            if(s1.isEmpty()):\n",
    "                f1=0\n",
    "            else:\n",
    "                s1.pop();\n",
    "                \n",
    "        elif(arr[i]=='{'):\n",
    "            s2.push('{')\n",
    "        elif(arr[i]=='}'):\n",
    "            if(s2.isEmpty()):\n",
    "                f2=0\n",
    "            else:\n",
    "                s2.pop();\n",
    "                \n",
    "        elif(arr[i]=='['):\n",
    "            s3.push('[')\n",
    "        elif(arr[i]==']'):\n",
    "            if(s3.isEmpty()):\n",
    "                f3=0\n",
    "            else:\n",
    "                s3.pop();\n",
    "      \n",
    "        i+=1;\n",
    "    \n",
    "    print(\"string - \",arr)\n",
    "    if(f1 ==1 and f2 == 1 and f3 == 1 and s1.isEmpty() and s2.isEmpty() and s3.isEmpty()):\n",
    "        print(\"String is Balanced\")\n",
    "    else :\n",
    "        print(\"String is Unbalanced\")\n",
    "    \n",
    "while(1):\n",
    "    str1=input(\"enter a string - \")\n",
    "    balancePara(str1)\n",
    "             \n",
    "\n",
    "\n"
   ]
  },
  {
   "cell_type": "code",
   "execution_count": null,
   "metadata": {},
   "outputs": [],
   "source": []
  }
 ],
 "metadata": {
  "kernelspec": {
   "display_name": "Python 3",
   "language": "python",
   "name": "python3"
  },
  "language_info": {
   "codemirror_mode": {
    "name": "ipython",
    "version": 3
   },
   "file_extension": ".py",
   "mimetype": "text/x-python",
   "name": "python",
   "nbconvert_exporter": "python",
   "pygments_lexer": "ipython3",
   "version": "3.7.3"
  }
 },
 "nbformat": 4,
 "nbformat_minor": 4
}
