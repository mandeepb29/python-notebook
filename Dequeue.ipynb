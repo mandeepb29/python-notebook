{
 "cells": [
  {
   "cell_type": "code",
   "execution_count": null,
   "metadata": {},
   "outputs": [
    {
     "name": "stdout",
     "output_type": "stream",
     "text": [
      "1. Add element to first\n",
      "2. Add element to last\n",
      "3. Delete first element\n",
      "4. Delete last element\n",
      "5. Print List\n",
      "6. Exit\n"
     ]
    },
    {
     "name": "stdin",
     "output_type": "stream",
     "text": [
      " 1\n",
      "Enter a value -  10\n"
     ]
    },
    {
     "name": "stdout",
     "output_type": "stream",
     "text": [
      "1. Add element to first\n",
      "2. Add element to last\n",
      "3. Delete first element\n",
      "4. Delete last element\n",
      "5. Print List\n",
      "6. Exit\n"
     ]
    },
    {
     "name": "stdin",
     "output_type": "stream",
     "text": [
      " 1\n",
      "Enter a value -  20\n"
     ]
    },
    {
     "name": "stdout",
     "output_type": "stream",
     "text": [
      "1. Add element to first\n",
      "2. Add element to last\n",
      "3. Delete first element\n",
      "4. Delete last element\n",
      "5. Print List\n",
      "6. Exit\n"
     ]
    },
    {
     "name": "stdin",
     "output_type": "stream",
     "text": [
      " 2\n",
      "Enter a value -  5\n"
     ]
    },
    {
     "name": "stdout",
     "output_type": "stream",
     "text": [
      "1. Add element to first\n",
      "2. Add element to last\n",
      "3. Delete first element\n",
      "4. Delete last element\n",
      "5. Print List\n",
      "6. Exit\n"
     ]
    },
    {
     "name": "stdin",
     "output_type": "stream",
     "text": [
      " 0\n"
     ]
    },
    {
     "name": "stdout",
     "output_type": "stream",
     "text": [
      "Enter a valid value\n",
      "1. Add element to first\n",
      "2. Add element to last\n",
      "3. Delete first element\n",
      "4. Delete last element\n",
      "5. Print List\n",
      "6. Exit\n"
     ]
    },
    {
     "name": "stdin",
     "output_type": "stream",
     "text": [
      " 5\n"
     ]
    },
    {
     "name": "stdout",
     "output_type": "stream",
     "text": [
      "[20, 10, 5]\n",
      "1. Add element to first\n",
      "2. Add element to last\n",
      "3. Delete first element\n",
      "4. Delete last element\n",
      "5. Print List\n",
      "6. Exit\n"
     ]
    },
    {
     "name": "stdin",
     "output_type": "stream",
     "text": [
      " 3\n"
     ]
    },
    {
     "name": "stdout",
     "output_type": "stream",
     "text": [
      "1. Add element to first\n",
      "2. Add element to last\n",
      "3. Delete first element\n",
      "4. Delete last element\n",
      "5. Print List\n",
      "6. Exit\n"
     ]
    },
    {
     "name": "stdin",
     "output_type": "stream",
     "text": [
      " 5\n"
     ]
    },
    {
     "name": "stdout",
     "output_type": "stream",
     "text": [
      "[10, 5]\n",
      "1. Add element to first\n",
      "2. Add element to last\n",
      "3. Delete first element\n",
      "4. Delete last element\n",
      "5. Print List\n",
      "6. Exit\n"
     ]
    },
    {
     "name": "stdin",
     "output_type": "stream",
     "text": [
      " 4\n"
     ]
    },
    {
     "name": "stdout",
     "output_type": "stream",
     "text": [
      "1. Add element to first\n",
      "2. Add element to last\n",
      "3. Delete first element\n",
      "4. Delete last element\n",
      "5. Print List\n",
      "6. Exit\n"
     ]
    },
    {
     "name": "stdin",
     "output_type": "stream",
     "text": [
      " 5\n"
     ]
    },
    {
     "name": "stdout",
     "output_type": "stream",
     "text": [
      "[10]\n",
      "1. Add element to first\n",
      "2. Add element to last\n",
      "3. Delete first element\n",
      "4. Delete last element\n",
      "5. Print List\n",
      "6. Exit\n"
     ]
    }
   ],
   "source": [
    "#dequeue program - by mandeep\n",
    "\n",
    "class Dequeue:\n",
    "    def __init__(self):\n",
    "        self.dq=[]\n",
    "    def addAtLast(self,item):\n",
    "        self.dq.append(item)\n",
    "    def addAtFirst(self,item):\n",
    "        self.dq.insert(0,item)\n",
    "    def delFromLast(self):\n",
    "        self.dq.pop();\n",
    "    def delFromFirst(self):\n",
    "        self.dq.pop(0);\n",
    "    def printList(self):\n",
    "        print(self.dq)\n",
    "        \n",
    "        \n",
    "q=Dequeue();\n",
    "while 1:\n",
    "    print(\"1. Add element to first\")\n",
    "    print(\"2. Add element to last\")\n",
    "    print(\"3. Delete first element\")\n",
    "    print(\"4. Delete last element\")\n",
    "    print(\"5. Print List\")\n",
    "    print(\"6. Exit\")\n",
    "    \n",
    "    choice=int(input())\n",
    "    \n",
    "    if choice == 1:\n",
    "            item=int(input(\"Enter a value - \"))\n",
    "            q.addAtFirst(item)\n",
    "    elif choice == 2:\n",
    "            item=int(input(\"Enter a value - \"))\n",
    "            q.addAtLast(item)\n",
    "    elif choice == 3:\n",
    "            q.delFromFirst()\n",
    "    elif choice == 4:\n",
    "            q.delFromLast()\n",
    "    elif choice == 5:\n",
    "            q.printList()\n",
    "    elif choice == 6:\n",
    "            break\n",
    "    else :\n",
    "        print(\"Enter a valid value\")"
   ]
  },
  {
   "cell_type": "code",
   "execution_count": null,
   "metadata": {},
   "outputs": [],
   "source": []
  }
 ],
 "metadata": {
  "kernelspec": {
   "display_name": "Python 3",
   "language": "python",
   "name": "python3"
  },
  "language_info": {
   "codemirror_mode": {
    "name": "ipython",
    "version": 3
   },
   "file_extension": ".py",
   "mimetype": "text/x-python",
   "name": "python",
   "nbconvert_exporter": "python",
   "pygments_lexer": "ipython3",
   "version": "3.7.3"
  }
 },
 "nbformat": 4,
 "nbformat_minor": 4
}
