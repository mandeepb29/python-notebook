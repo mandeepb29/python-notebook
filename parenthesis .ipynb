{
 "cells": [
  {
   "cell_type": "code",
   "execution_count": 6,
   "metadata": {},
   "outputs": [
    {
     "ename": "SyntaxError",
     "evalue": "invalid syntax (<ipython-input-6-2d6a163ebecd>, line 41)",
     "output_type": "error",
     "traceback": [
      "\u001b[0;36m  File \u001b[0;32m\"<ipython-input-6-2d6a163ebecd>\"\u001b[0;36m, line \u001b[0;32m41\u001b[0m\n\u001b[0;31m    if(balancePara(para):\u001b[0m\n\u001b[0m                        ^\u001b[0m\n\u001b[0;31mSyntaxError\u001b[0m\u001b[0;31m:\u001b[0m invalid syntax\n"
     ]
    }
   ],
   "source": [
    "class Stack:\n",
    "    def __init__(self):\n",
    "        self.a=[];\n",
    "\n",
    "    def push(self,item):\n",
    "        self.a.append(item)\n",
    "        print(\"pushed - (\")\n",
    "\n",
    "    def pop(self):\n",
    "        item=self.a.pop()\n",
    "        print(\"popped - )\")\n",
    "\n",
    "    def length(self):\n",
    "        return len(self.a)\n",
    "\n",
    "    def print(self):\n",
    "        print(\"stack : \",self.a)\n",
    "    \n",
    "    def isEmpty(self):\n",
    "        return len(self.a)==0\n",
    "\n",
    "def balancePara(arr):\n",
    "    i=0;\n",
    "    s1=Stack()\n",
    "    while i<len(arr):\n",
    "       if(arr[i]=='('):\n",
    "           s1.push('(')\n",
    "       elif(arr[i]==')'):\n",
    "           if(s1.isEmpty()):\n",
    "               print(\"popped - )\")\n",
    "               return 0;\n",
    "           else:\n",
    "               s1.pop();\n",
    "       i+=1;\n",
    "\n",
    "    if(s1.isEmpty()):\n",
    "        return 1\n",
    "\n",
    "\n",
    "if(balancePara('(())'):\n",
    "    print(\"String is balanced\")\n",
    "else:\n",
    "    print(\"String is unbalanced\")\n",
    "    \n",
    "\n",
    "\n",
    "\n",
    "\n"
   ]
  },
  {
   "cell_type": "code",
   "execution_count": null,
   "metadata": {},
   "outputs": [],
   "source": []
  },
  {
   "cell_type": "code",
   "execution_count": null,
   "metadata": {},
   "outputs": [],
   "source": []
  }
 ],
 "metadata": {
  "kernelspec": {
   "display_name": "Python 3",
   "language": "python",
   "name": "python3"
  },
  "language_info": {
   "codemirror_mode": {
    "name": "ipython",
    "version": 3
   },
   "file_extension": ".py",
   "mimetype": "text/x-python",
   "name": "python",
   "nbconvert_exporter": "python",
   "pygments_lexer": "ipython3",
   "version": "3.6.7"
  }
 },
 "nbformat": 4,
 "nbformat_minor": 2
}
