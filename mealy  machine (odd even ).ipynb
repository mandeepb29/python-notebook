{
 "cells": [
  {
   "cell_type": "markdown",
   "metadata": {},
   "source": [
    "MEALY MACHINE USING LIST"
   ]
  },
  {
   "cell_type": "code",
   "execution_count": null,
   "metadata": {},
   "outputs": [
    {
     "name": "stdin",
     "output_type": "stream",
     "text": [
      " 101\n"
     ]
    },
    {
     "name": "stdout",
     "output_type": "stream",
     "text": [
      "final state =  q0\n",
      "final output =  even\n"
     ]
    },
    {
     "name": "stdin",
     "output_type": "stream",
     "text": [
      " 001\n"
     ]
    },
    {
     "name": "stdout",
     "output_type": "stream",
     "text": [
      "final state =  q1\n",
      "final output =  odd\n"
     ]
    },
    {
     "name": "stdin",
     "output_type": "stream",
     "text": [
      " 1111\n"
     ]
    },
    {
     "name": "stdout",
     "output_type": "stream",
     "text": [
      "final state =  q0\n",
      "final output =  even\n"
     ]
    },
    {
     "name": "stdin",
     "output_type": "stream",
     "text": [
      " 1101101\n"
     ]
    },
    {
     "name": "stdout",
     "output_type": "stream",
     "text": [
      "final state =  q1\n",
      "final output =  odd\n"
     ]
    },
    {
     "name": "stdin",
     "output_type": "stream",
     "text": [
      " \n",
      " 11111111111101\n"
     ]
    },
    {
     "name": "stdout",
     "output_type": "stream",
     "text": [
      "final state =  q1\n",
      "final output =  odd\n"
     ]
    },
    {
     "name": "stdin",
     "output_type": "stream",
     "text": [
      " 010100\n"
     ]
    },
    {
     "name": "stdout",
     "output_type": "stream",
     "text": [
      "final state =  q0\n",
      "final output =  even\n"
     ]
    }
   ],
   "source": [
    "class Meeley:\n",
    "    def __init__(self):\n",
    "        self.me={\n",
    "              'q0':{'0':['q0','even'],'1':['q1','odd']},\n",
    "              'q1':{'0':['q1','odd'],'1':['q0','even']}\n",
    "            }\n",
    "    def fun1(self,str1):\n",
    "        initial='q0'\n",
    "        x=initial\n",
    "        \n",
    "        if len(str1)==0:\n",
    "            return 0\n",
    "        for i in str1:\n",
    "            op=self.me[x][i][1]\n",
    "            x=self.me[x][i][0]\n",
    "\n",
    "        print(\"final state = \",x)\n",
    "        print(\"final output = \",op)\n",
    "\n",
    "ob1=Meeley();\n",
    "while 1:\n",
    "    str1=input()\n",
    "    ob1.fun1(str1)\n"
   ]
  },
  {
   "cell_type": "markdown",
   "metadata": {},
   "source": [
    "MEALY MACHINE USING TUPPLE"
   ]
  },
  {
   "cell_type": "code",
   "execution_count": null,
   "metadata": {},
   "outputs": [
    {
     "name": "stdin",
     "output_type": "stream",
     "text": [
      " 1001\n"
     ]
    },
    {
     "name": "stdout",
     "output_type": "stream",
     "text": [
      "final state =  q0\n",
      "final output =  even\n"
     ]
    },
    {
     "name": "stdin",
     "output_type": "stream",
     "text": [
      " \n",
      " \n",
      " 111\n"
     ]
    },
    {
     "name": "stdout",
     "output_type": "stream",
     "text": [
      "final state =  q1\n",
      "final output =  odd\n"
     ]
    },
    {
     "name": "stdin",
     "output_type": "stream",
     "text": [
      " 010110011\n"
     ]
    },
    {
     "name": "stdout",
     "output_type": "stream",
     "text": [
      "final state =  q1\n",
      "final output =  odd\n"
     ]
    },
    {
     "name": "stdin",
     "output_type": "stream",
     "text": [
      " 0000\n"
     ]
    },
    {
     "name": "stdout",
     "output_type": "stream",
     "text": [
      "final state =  q0\n",
      "final output =  even\n"
     ]
    },
    {
     "name": "stdin",
     "output_type": "stream",
     "text": [
      " 101011\n"
     ]
    },
    {
     "name": "stdout",
     "output_type": "stream",
     "text": [
      "final state =  q0\n",
      "final output =  even\n"
     ]
    }
   ],
   "source": [
    "class Meeley:\n",
    "    def __init__(self):\n",
    "        self.me={\n",
    "              'q0':{'0':('q0','even'),'1':('q1','odd')},\n",
    "              'q1':{'0':('q1','odd'),'1':('q0','even')}\n",
    "        }\n",
    "    \n",
    "    def fun2(self,str1):\n",
    "        initial='q0'\n",
    "        x=initial\n",
    "        \n",
    "        if len(str1)==0:\n",
    "            return 0\n",
    "        for i in str1:\n",
    "            op=self.me[x][i][1]\n",
    "            x=self.me[x][i][0]\n",
    "\n",
    "        print(\"final state = \",x)\n",
    "        print(\"final output = \",op)\n",
    "\n",
    "ob1=Meeley();\n",
    "while 1:\n",
    "    str1=input()\n",
    "    ob1.fun2(str1)\n"
   ]
  },
  {
   "cell_type": "markdown",
   "metadata": {},
   "source": [
    "MEALY MACHINE USING DICTIONARY"
   ]
  },
  {
   "cell_type": "code",
   "execution_count": null,
   "metadata": {},
   "outputs": [
    {
     "name": "stdin",
     "output_type": "stream",
     "text": [
      " 1001\n"
     ]
    },
    {
     "name": "stdout",
     "output_type": "stream",
     "text": [
      "final state =  q0\n",
      "final output =  even\n"
     ]
    },
    {
     "name": "stdin",
     "output_type": "stream",
     "text": [
      " \n",
      " 111\n"
     ]
    },
    {
     "name": "stdout",
     "output_type": "stream",
     "text": [
      "final state =  q1\n",
      "final output =  odd\n"
     ]
    },
    {
     "name": "stdin",
     "output_type": "stream",
     "text": [
      " 000\n"
     ]
    },
    {
     "name": "stdout",
     "output_type": "stream",
     "text": [
      "final state =  q0\n",
      "final output =  even\n"
     ]
    },
    {
     "name": "stdin",
     "output_type": "stream",
     "text": [
      " 110011001\n"
     ]
    },
    {
     "name": "stdout",
     "output_type": "stream",
     "text": [
      "final state =  q1\n",
      "final output =  odd\n"
     ]
    },
    {
     "name": "stdin",
     "output_type": "stream",
     "text": [
      " 1100110011\n"
     ]
    },
    {
     "name": "stdout",
     "output_type": "stream",
     "text": [
      "final state =  q0\n",
      "final output =  even\n"
     ]
    },
    {
     "name": "stdin",
     "output_type": "stream",
     "text": [
      " 11111\n"
     ]
    },
    {
     "name": "stdout",
     "output_type": "stream",
     "text": [
      "final state =  q1\n",
      "final output =  odd\n"
     ]
    },
    {
     "name": "stdin",
     "output_type": "stream",
     "text": [
      " 000000\n"
     ]
    },
    {
     "name": "stdout",
     "output_type": "stream",
     "text": [
      "final state =  q0\n",
      "final output =  even\n"
     ]
    }
   ],
   "source": [
    "class Meeley:\n",
    "    def __init__(self):\n",
    "        self.me={\n",
    "              'q0':{'0':{'state':'q0','output':'even'},'1':{'state':'q1','output':'odd'}},\n",
    "              'q1':{'0':{'state':'q1','output':'odd'},'1':{'state':'q0','output':'even'}}\n",
    "        }\n",
    "    \n",
    "    def fun2(self,str1):\n",
    "        initial='q0'\n",
    "        x=initial\n",
    "        \n",
    "        if len(str1)==0:\n",
    "            return 0\n",
    "        for i in str1:\n",
    "            op=self.me[x][i]['output']\n",
    "            x=self.me[x][i]['state']\n",
    "\n",
    "        print(\"final state = \",x)\n",
    "        print(\"final output = \",op)\n",
    "\n",
    "ob1=Meeley();\n",
    "while 1:\n",
    "    str1=input()\n",
    "    ob1.fun2(str1)\n"
   ]
  },
  {
   "cell_type": "code",
   "execution_count": null,
   "metadata": {},
   "outputs": [],
   "source": []
  }
 ],
 "metadata": {
  "kernelspec": {
   "display_name": "Python 3",
   "language": "python",
   "name": "python3"
  },
  "language_info": {
   "codemirror_mode": {
    "name": "ipython",
    "version": 3
   },
   "file_extension": ".py",
   "mimetype": "text/x-python",
   "name": "python",
   "nbconvert_exporter": "python",
   "pygments_lexer": "ipython3",
   "version": "3.7.3"
  }
 },
 "nbformat": 4,
 "nbformat_minor": 4
}
