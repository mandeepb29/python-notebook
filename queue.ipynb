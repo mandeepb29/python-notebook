{
 "cells": [
  {
   "cell_type": "code",
   "execution_count": 4,
   "metadata": {},
   "outputs": [
    {
     "name": "stdout",
     "output_type": "stream",
     "text": [
      "1 added\n",
      "2 added\n",
      "3 added\n",
      "4 added\n",
      "[1, 2, 3, 4]\n",
      "1 deleted\n",
      "3\n"
     ]
    }
   ],
   "source": [
    "class queue:\n",
    "    def __init__(self):\n",
    "        self.items=[]\n",
    "    def enqueue(self,i):\n",
    "        self.items.append(i)\n",
    "        print(i,\"added\")\n",
    "    def delete(self):\n",
    "        print(self.items[0],\"deleted\")\n",
    "        self.items.pop(0)\n",
    "    def length(self):\n",
    "        print(len(self.items))\n",
    "    def print(self):\n",
    "        print(self.items)\n",
    "        \n",
    "q=queue()\n",
    "q.enqueue(1)\n",
    "q.enqueue(2)\n",
    "q.enqueue(3)\n",
    "q.enqueue(4)\n",
    "q.print()\n",
    "q.delete()\n",
    "q.length()"
   ]
  },
  {
   "cell_type": "code",
   "execution_count": null,
   "metadata": {},
   "outputs": [],
   "source": []
  }
 ],
 "metadata": {
  "kernelspec": {
   "display_name": "Python 3",
   "language": "python",
   "name": "python3"
  },
  "language_info": {
   "codemirror_mode": {
    "name": "ipython",
    "version": 3
   },
   "file_extension": ".py",
   "mimetype": "text/x-python",
   "name": "python",
   "nbconvert_exporter": "python",
   "pygments_lexer": "ipython3",
   "version": "3.7.3"
  }
 },
 "nbformat": 4,
 "nbformat_minor": 4
}
