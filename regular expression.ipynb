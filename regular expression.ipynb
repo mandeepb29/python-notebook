{
 "cells": [
  {
   "cell_type": "markdown",
   "metadata": {},
   "source": [
    "string starting with a and ending with b(can contain only a and b)"
   ]
  },
  {
   "cell_type": "code",
   "execution_count": 5,
   "metadata": {},
   "outputs": [
    {
     "name": "stdout",
     "output_type": "stream",
     "text": [
      "Yes, there is at least one match!\n",
      "No match\n"
     ]
    }
   ],
   "source": [
    "import re\n",
    "str=\"abbbaaaaaaaaaaabbbbb\"\n",
    "\n",
    "x=re.search(\"^a[a-b]*b$\",str)\n",
    "if (x):\n",
    "  print(\"Yes, there is at least one match!\")\n",
    "else:\n",
    "  print(\"No match\")\n",
    "  \n",
    "str1=\"baaab\"\n",
    "y=re.search(\"^a[a-b]*b$\",str1)\n",
    "if (y):\n",
    "  print(\"Yes, there is at least one match!\")\n",
    "else:\n",
    "  print(\"No match\")"
   ]
  },
  {
   "cell_type": "markdown",
   "metadata": {},
   "source": [
    "to check if entered number is a power of 2"
   ]
  },
  {
   "cell_type": "code",
   "execution_count": 6,
   "metadata": {},
   "outputs": [
    {
     "name": "stdout",
     "output_type": "stream",
     "text": [
      "2048\n",
      "Yes, there is at least one match!\n",
      "20\n",
      "No match\n"
     ]
    }
   ],
   "source": [
    "import re\n",
    "\n",
    "num=2048;\n",
    "print(num)\n",
    "str1=bin(num)[2::]\n",
    "\n",
    "x=re.search(\"^1[0]*$\",str1)\n",
    "if (x):\n",
    "  print(\"Yes, there is at least one match!\")\n",
    "else:\n",
    "  print(\"No match\")\n",
    "  \n",
    "num2=20\n",
    "print(num2)\n",
    "str2=bin(num2)[2::]\n",
    "\n",
    "\n",
    "y=re.search(\"^1[0]*$\",str2)\n",
    "if (y):\n",
    "  print(\"Yes, there is at least one match!\")\n",
    "else:\n",
    "  print(\"No match\")"
   ]
  },
  {
   "cell_type": "markdown",
   "metadata": {},
   "source": [
    "to check if phone number is valid number of india "
   ]
  },
  {
   "cell_type": "code",
   "execution_count": 7,
   "metadata": {},
   "outputs": [
    {
     "name": "stdout",
     "output_type": "stream",
     "text": [
      "+917389885126\n",
      "Yes, there is at least one match!\n",
      "+117388845126\n",
      "No match\n"
     ]
    }
   ],
   "source": [
    "import re\n",
    "\n",
    "\n",
    "phone=\"+917389885126\"\n",
    "print(phone)\n",
    "x=re.search(\"^\\+91[0-9]{10}$\",phone)\n",
    "\n",
    "if (x):\n",
    "  print(\"Yes, there is at least one match!\")\n",
    "else:\n",
    "  print(\"No match\")\n",
    "  \n",
    "phone2=\"+117388845126\"\n",
    "print(phone2)\n",
    "x=re.search(\"^\\+91[0-9]{10}$\",phone2)\n",
    "\n",
    "if (x):\n",
    "  print(\"Yes, there is at least one match!\")\n",
    "else:\n",
    "  print(\"No match\")\n",
    "\n",
    "\n",
    "  "
   ]
  },
  {
   "cell_type": "markdown",
   "metadata": {},
   "source": [
    "check if no. of a in a string is odd or even"
   ]
  },
  {
   "cell_type": "code",
   "execution_count": 8,
   "metadata": {},
   "outputs": [
    {
     "name": "stdout",
     "output_type": "stream",
     "text": [
      "['a', 'a']\n",
      "even numbers of a \n",
      "['a', 'a', 'a', 'a', 'a']\n",
      "odd numbers of a \n"
     ]
    }
   ],
   "source": [
    "import re\n",
    "\n",
    "\n",
    "string=\"abab\"\n",
    "\n",
    "array = re.findall('a', string) \n",
    "print(array)\n",
    "\n",
    "if (len(array)%2==0):\n",
    "  print(\"even numbers of a \")\n",
    "else:\n",
    "  print(\"odd numbers of a \")\n",
    "\n",
    "string2=\"aaabbbaa\"\n",
    "array = re.findall('a', string2) \n",
    "print(array)\n",
    "\n",
    "if (len(array)%2==0):\n",
    "  print(\"even numbers of a \")\n",
    "else:\n",
    "  print(\"odd numbers of a \")\n",
    "  "
   ]
  },
  {
   "cell_type": "markdown",
   "metadata": {},
   "source": [
    "To check if email is valid or not"
   ]
  },
  {
   "cell_type": "code",
   "execution_count": 9,
   "metadata": {},
   "outputs": [
    {
     "name": "stdout",
     "output_type": "stream",
     "text": [
      "Yes, there is at least one match!\n"
     ]
    }
   ],
   "source": [
    "import re\n",
    "str = \"mandeepb29@gmail.com\"\n",
    "x = re.search('.+@.+\\.com', str)\n",
    "\n",
    "if (x):\n",
    "  print(\"Yes, there is at least one match!\")\n",
    "else:\n",
    "  print(\"No match\")"
   ]
  },
  {
   "cell_type": "code",
   "execution_count": null,
   "metadata": {},
   "outputs": [],
   "source": []
  }
 ],
 "metadata": {
  "kernelspec": {
   "display_name": "Python 3",
   "language": "python",
   "name": "python3"
  },
  "language_info": {
   "codemirror_mode": {
    "name": "ipython",
    "version": 3
   },
   "file_extension": ".py",
   "mimetype": "text/x-python",
   "name": "python",
   "nbconvert_exporter": "python",
   "pygments_lexer": "ipython3",
   "version": "3.7.3"
  }
 },
 "nbformat": 4,
 "nbformat_minor": 4
}
